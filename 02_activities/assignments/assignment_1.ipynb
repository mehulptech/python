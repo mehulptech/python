{
 "cells": [
  {
   "cell_type": "markdown",
   "metadata": {},
   "source": [
    "# Assignment #1: Anagram Checker\n",
    "\n",
    "**Background**: Anagram Checker is a program that takes two words and determines if an anagram can be made from it. If so, the program will return `true`, otherwise `false`."
   ]
  },
  {
   "cell_type": "markdown",
   "metadata": {},
   "source": [
    "## Submission Information\n",
    "\n",
    "🚨 **Please review our [Assignment Submission Guide](https://github.com/UofT-DSI/onboarding/blob/main/onboarding_documents/submissions.md)** 🚨 for detailed instructions on how to format, branch, and submit your work. Following these guidelines is crucial for your submissions to be evaluated correctly.\n",
    "\n",
    "### Submission Parameters:\n",
    "* Submission Due Date: `11:59 PM - Sept 1, 2024`\n",
    "* The branch name for your repo should be: `assignment-1`\n",
    "* What to submit for this assignment:\n",
    "    * This Jupyter Notebook (assignment_1.ipynb) should be populated and should be the only change in your pull request.\n",
    "* What the pull request link should look like for this assignment: `https://github.com/<your_github_username>/python/pull/<pr_id>`\n",
    "    * Open a private window in your browser. Copy and paste the link to your pull request into the address bar. Make sure you can see your pull request properly. This helps the technical facilitator and learning support staff review your submission easily.\n",
    "\n",
    "Checklist:\n",
    "- [ ] Created a branch with the correct naming convention.\n",
    "- [ ] Ensured that the repository is public.\n",
    "- [ ] Reviewed the PR description guidelines and adhered to them.\n",
    "- [ ] Verify that the link is accessible in a private browser window.\n",
    "\n",
    "If you encounter any difficulties or have questions, please don't hesitate to reach out to our team via our Slack at `#cohort-3-help`. Our Technical Facilitators and Learning Support staff are here to help you navigate any challenges."
   ]
  },
  {
   "cell_type": "markdown",
   "metadata": {},
   "source": [
    "### Part 1: Building the base Anagram Checker\n",
    "\n",
    "Given two valid strings, check to see if they are anagrams of each other. If it is, return `True`, else `False`. For this part, we can assume that uppercase letters are the same as if it was a lowercase character.\n",
    "\n",
    "Examples of anagrams:\n",
    "* Slient and Listen\n",
    "* Night and Think\n",
    "\n",
    "Example outputs:\n",
    "```python\n",
    "anagram_checker(\"Slient\", \"listen\") # True\n",
    "anagram_checker(\"Slient\", \"Night\") # False\n",
    "anagram_checker(\"night\", \"Thing\") # True\n",
    "```"
   ]
  },
  {
   "cell_type": "code",
   "execution_count": 54,
   "metadata": {},
   "outputs": [
    {
     "name": "stdout",
     "output_type": "stream",
     "text": [
      "True\n",
      "Congratulations! Both the word/phrase seems to be an Anagram as per this program logic.\n"
     ]
    }
   ],
   "source": [
    "# Function to determine whether the 2 words or phrases are anagram or not, and return True or False boolean value accordingly\n",
    "def anagram_checker(first_word, second_word):\n",
    "  \"\"\"Checks for Anagram and returns True or False\"\"\"\n",
    "\n",
    "  # Verifying whether valid string has been entered or not\n",
    "  # print (is_valid_string(first_word))\n",
    "  # print (is_valid_string(second_word))\n",
    "  if not (is_valid_string(first_word) and is_valid_string(second_word)):\n",
    "    # print(\"Not a valid string\")\n",
    "    return False\n",
    "  \n",
    "  # converting both inputted words into lowercase and removing spaces\n",
    "  lower_first_word = first_word.lower().replace(' ','')\n",
    "  lower_second_word = second_word.lower().replace(' ','')\n",
    "  # print(lower_first_word, lower_second_word)\n",
    "  # check if both words/phrase are of same length or not\n",
    "  if(len(lower_first_word) == len(lower_second_word)):\n",
    "      # sort the strings\n",
    "      sorted_first_word = sorted(lower_first_word)\n",
    "      sorted_second_word = sorted(lower_second_word)\n",
    "      # print(sorted_first_word, sorted_second_word)\n",
    "      # if sorted strings are the same\n",
    "      if(sorted_first_word == sorted_second_word):\n",
    "          return True\n",
    "          # return \"Strings \\\"\" + first_word + \"\\\" and \\\"\" + second_word + \"\\\" are anagram.\"\n",
    "          # print(\"Strings \\\"\" + first_word + \"\\\" and \\\"\" + second_word + \"\\\" are anagram.\")\n",
    "      else:\n",
    "          return False\n",
    "          # return \"Strings \\\"\" + first_word + \"\\\" and \\\"\" + second_word + \"\\\" are NOT anagram.\"\n",
    "          # print(\"Strings \\\"\" + first_word + \"\\\" and \\\"\" + second_word + \"\\\" are NOT anagram.\")\n",
    "  else:\n",
    "      return False\n",
    "      # return \"Strings \\\"\" + first_word + \"\\\" and \\\"\" + second_word + \"\\\" are NOT anagram.\"\n",
    "      # print(\"Strings \\\"\" + first_word + \"\\\" and \\\"\" + second_word + \"\\\" are NOT anagram.\")\n",
    "\n",
    "# Function to verify whether valid string has been entered or not\n",
    "def is_valid_string(input_word):\n",
    "    \"\"\"Checks valid string\"\"\"\n",
    "    no_space_string = input_word.replace(' ','')\n",
    "    if input_word.isalpha() or no_space_string.isalpha():\n",
    "        return True\n",
    "    else:\n",
    "        return False\n",
    "\n",
    "# Check whether Anagram or not, and output the result to the user\n",
    "if (anagram_checker(\"Fourth of July\", \"joyful Fourth\")):\n",
    "    print(\"True\")\n",
    "    print (\"Congratulations! Both the word/phrase seems to be an Anagram as per this program logic.\")\n",
    "else:\n",
    "    print(\"False\")\n",
    "    print(\"Sorry, it looks like your supplied word/phrase does not seem to be an Anagram as per this program logic.\")"
   ]
  },
  {
   "cell_type": "code",
   "execution_count": 45,
   "metadata": {},
   "outputs": [
    {
     "data": {
      "text/plain": [
       "True"
      ]
     },
     "execution_count": 45,
     "metadata": {},
     "output_type": "execute_result"
    }
   ],
   "source": [
    "anagram_checker(\"I am Lord Voldemort\", \"Tom Marvolo Riddle\")"
   ]
  },
  {
   "cell_type": "code",
   "execution_count": 55,
   "metadata": {},
   "outputs": [
    {
     "data": {
      "text/plain": [
       "True"
      ]
     },
     "execution_count": 55,
     "metadata": {},
     "output_type": "execute_result"
    }
   ],
   "source": [
    "anagram_checker(\"Silent\", \"listen\") # True"
   ]
  },
  {
   "cell_type": "code",
   "execution_count": 56,
   "metadata": {},
   "outputs": [
    {
     "data": {
      "text/plain": [
       "True"
      ]
     },
     "execution_count": 56,
     "metadata": {},
     "output_type": "execute_result"
    }
   ],
   "source": [
    "anagram_checker(\"the detectives\", \"detect thieves\")"
   ]
  },
  {
   "cell_type": "code",
   "execution_count": 41,
   "metadata": {},
   "outputs": [
    {
     "data": {
      "text/plain": [
       "True"
      ]
     },
     "execution_count": 41,
     "metadata": {},
     "output_type": "execute_result"
    }
   ],
   "source": [
    "anagram_checker(\"vacation time\", \"I am not active\")"
   ]
  },
  {
   "cell_type": "code",
   "execution_count": 38,
   "metadata": {},
   "outputs": [
    {
     "data": {
      "text/plain": [
       "False"
      ]
     },
     "execution_count": 38,
     "metadata": {},
     "output_type": "execute_result"
    }
   ],
   "source": [
    "anagram_checker(\"Silent\", \"Night\")"
   ]
  },
  {
   "cell_type": "code",
   "execution_count": 39,
   "metadata": {},
   "outputs": [
    {
     "data": {
      "text/plain": [
       "True"
      ]
     },
     "execution_count": 39,
     "metadata": {},
     "output_type": "execute_result"
    }
   ],
   "source": [
    "anagram_checker(\"night\", \"Thing\")"
   ]
  },
  {
   "cell_type": "code",
   "execution_count": 47,
   "metadata": {},
   "outputs": [
    {
     "data": {
      "text/plain": [
       "True"
      ]
     },
     "execution_count": 47,
     "metadata": {},
     "output_type": "execute_result"
    }
   ],
   "source": [
    "anagram_checker(\"Russell Crowe\", \"scowler rules\")"
   ]
  },
  {
   "cell_type": "markdown",
   "metadata": {},
   "source": [
    "### Part 2: Expanding the functionality of the Anagram Checker\n",
    "\n",
    "Using your existing and functional anagram checker, let's add a boolean option called `is_case_sensitive`, which will return `True` or `False` based on if the two compared words are anagrams and if we are checking for case sensitivity."
   ]
  },
  {
   "cell_type": "code",
   "execution_count": 70,
   "metadata": {},
   "outputs": [
    {
     "name": "stdout",
     "output_type": "stream",
     "text": [
      "False\n",
      "Sorry, it looks like your supplied word/phrase does not seem to be an Anagram as per this program logic.\n"
     ]
    }
   ],
   "source": [
    "# Function to determine whether the 2 words or phrases are anagram or not based on case-sensitivity, and return True or False boolean value accordingly\n",
    "def anagram_checker_case_sensitive(first_word, second_word, is_case_sensitive):\n",
    "  \"\"\"Checks for Anagram based on case sensitivity and returns True or False\"\"\"\n",
    "\n",
    "  # Verifying whether valid string has been entered or not\n",
    "  # print (is_valid_string(first_word))\n",
    "  # print (is_valid_string(second_word))\n",
    "  if not (is_valid_string(first_word) and is_valid_string(second_word)):\n",
    "    # print(\"Not a valid string\")\n",
    "    return False\n",
    "  \n",
    "  if (is_case_sensitive):\n",
    "    # Removing spaces from the both inputted words\n",
    "    nospace_first_word = first_word.replace(' ','')\n",
    "    nospace_second_word = second_word.replace(' ','')\n",
    "    # print(nospace_first_word, nospace_second_word)\n",
    "    # check if both words/phrase are of same length or not\n",
    "    if(len(nospace_first_word) == len(nospace_second_word)):\n",
    "        # sort the strings\n",
    "        sorted_first_word = sorted(nospace_first_word)\n",
    "        sorted_second_word = sorted(nospace_second_word)\n",
    "        # print(sorted_first_word, sorted_second_word)\n",
    "        # if sorted strings are the same\n",
    "        if(sorted_first_word == sorted_second_word):\n",
    "            return True\n",
    "            # return \"Strings \\\"\" + first_word + \"\\\" and \\\"\" + second_word + \"\\\" are anagram.\"\n",
    "            # print(\"Strings \\\"\" + first_word + \"\\\" and \\\"\" + second_word + \"\\\" are anagram.\")\n",
    "        else:\n",
    "            return False\n",
    "            # return \"Strings \\\"\" + first_word + \"\\\" and \\\"\" + second_word + \"\\\" are NOT anagram.\"\n",
    "            # print(\"Strings \\\"\" + first_word + \"\\\" and \\\"\" + second_word + \"\\\" are NOT anagram.\")\n",
    "    else:\n",
    "        return False\n",
    "        # return \"Strings \\\"\" + first_word + \"\\\" and \\\"\" + second_word + \"\\\" are NOT anagram.\"\n",
    "        # print(\"Strings \\\"\" + first_word + \"\\\" and \\\"\" + second_word + \"\\\" are NOT anagram.\")\n",
    "  else:\n",
    "        # converting both inputted words into lowercase and removing spaces\n",
    "        lower_first_word = first_word.lower().replace(' ','')\n",
    "        lower_second_word = second_word.lower().replace(' ','')\n",
    "        # print(lower_first_word, lower_second_word)\n",
    "        # check if both words/phrase are of same length or not\n",
    "        if(len(lower_first_word) == len(lower_second_word)):\n",
    "            # sort the strings\n",
    "            sorted_first_word = sorted(lower_first_word)\n",
    "            sorted_second_word = sorted(lower_second_word)\n",
    "            # print(sorted_first_word, sorted_second_word)\n",
    "            # if sorted strings are the same\n",
    "            if(sorted_first_word == sorted_second_word):\n",
    "                return True\n",
    "                # return \"Strings \\\"\" + first_word + \"\\\" and \\\"\" + second_word + \"\\\" are anagram.\"\n",
    "                # print(\"Strings \\\"\" + first_word + \"\\\" and \\\"\" + second_word + \"\\\" are anagram.\")\n",
    "            else:\n",
    "                return False\n",
    "                # return \"Strings \\\"\" + first_word + \"\\\" and \\\"\" + second_word + \"\\\" are NOT anagram.\"\n",
    "                # print(\"Strings \\\"\" + first_word + \"\\\" and \\\"\" + second_word + \"\\\" are NOT anagram.\")\n",
    "        else:\n",
    "            return False\n",
    "            # return \"Strings \\\"\" + first_word + \"\\\" and \\\"\" + second_word + \"\\\" are NOT anagram.\"\n",
    "            # print(\"Strings \\\"\" + first_word + \"\\\" and \\\"\" + second_word + \"\\\" are NOT anagram.\")\n",
    "\n",
    "# Function to verify whether valid string has been entered or not\n",
    "def is_valid_string(input_word):\n",
    "    \"\"\"Checks valid string\"\"\"\n",
    "    no_space_string = input_word.replace(' ','')\n",
    "    if input_word.isalpha() or no_space_string.isalpha():\n",
    "        return True\n",
    "    else:\n",
    "        return False\n",
    "\n",
    "# Check whether Anagram or not, and output the result to the user\n",
    "if (anagram_checker_case_sensitive(\"I am Lord Voldemort\", \"Tom Marvolo Riddle\", True)):\n",
    "    print(\"True\")\n",
    "    print (\"Congratulations! Both the word/phrase seems to be an Anagram as per this program logic.\")\n",
    "else:\n",
    "    print(\"False\")\n",
    "    print(\"Sorry, it looks like your supplied word/phrase does not seem to be an Anagram as per this program logic.\")"
   ]
  },
  {
   "cell_type": "code",
   "execution_count": 61,
   "metadata": {},
   "outputs": [
    {
     "data": {
      "text/plain": [
       "False"
      ]
     },
     "execution_count": 61,
     "metadata": {},
     "output_type": "execute_result"
    }
   ],
   "source": [
    "anagram_checker_case_sensitive(\"Silent\", \"Listen\", True) # False"
   ]
  },
  {
   "cell_type": "code",
   "execution_count": 60,
   "metadata": {},
   "outputs": [
    {
     "data": {
      "text/plain": [
       "True"
      ]
     },
     "execution_count": 60,
     "metadata": {},
     "output_type": "execute_result"
    }
   ],
   "source": [
    "anagram_checker_case_sensitive(\"Silent\", \"listen\", False) # True"
   ]
  },
  {
   "cell_type": "code",
   "execution_count": 63,
   "metadata": {},
   "outputs": [
    {
     "data": {
      "text/plain": [
       "False"
      ]
     },
     "execution_count": 63,
     "metadata": {},
     "output_type": "execute_result"
    }
   ],
   "source": [
    "anagram_checker_case_sensitive(\"Elvis Presley\", \"Presley lives\", True) # False"
   ]
  },
  {
   "cell_type": "code",
   "execution_count": 68,
   "metadata": {},
   "outputs": [
    {
     "data": {
      "text/plain": [
       "True"
      ]
     },
     "execution_count": 68,
     "metadata": {},
     "output_type": "execute_result"
    }
   ],
   "source": [
    "anagram_checker_case_sensitive(\"Emily Dickinson\", \"income is kindly\", False) # True"
   ]
  },
  {
   "cell_type": "markdown",
   "metadata": {},
   "source": [
    "|Criteria|Pass|Fail|\n",
    "|---|---|---|\n",
    "|Code Execution|All code cells execute without errors.|Any code cell produces an error upon execution.|\n",
    "|Code Quality|Code is well-organized, concise, and includes necessary comments for clarity. E.g. Great use of variable names.|Code is unorganized, verbose, or lacks necessary comments. E.g. Single character variable names outside of loops.|"
   ]
  }
 ],
 "metadata": {
  "kernelspec": {
   "display_name": "new-learner",
   "language": "python",
   "name": "python3"
  },
  "language_info": {
   "codemirror_mode": {
    "name": "ipython",
    "version": 3
   },
   "file_extension": ".py",
   "mimetype": "text/x-python",
   "name": "python",
   "nbconvert_exporter": "python",
   "pygments_lexer": "ipython3",
   "version": "3.9.19"
  }
 },
 "nbformat": 4,
 "nbformat_minor": 2
}
